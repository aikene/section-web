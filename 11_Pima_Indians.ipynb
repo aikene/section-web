{
  "nbformat": 4,
  "nbformat_minor": 0,
  "metadata": {
    "colab": {
      "name": "11_Pima_Indians.ipynb",
      "provenance": [],
      "authorship_tag": "ABX9TyNh22gcBVtF8AJoWKav6BfK",
      "include_colab_link": true
    },
    "kernelspec": {
      "name": "python3",
      "display_name": "Python 3"
    },
    "language_info": {
      "name": "python"
    }
  },
  "cells": [
    {
      "cell_type": "markdown",
      "metadata": {
        "id": "view-in-github",
        "colab_type": "text"
      },
      "source": [
        "<a href=\"https://colab.research.google.com/github/aikene/section-web/blob/master/11_Pima_Indians.ipynb\" target=\"_parent\"><img src=\"https://colab.research.google.com/assets/colab-badge.svg\" alt=\"Open In Colab\"/></a>"
      ]
    },
    {
      "cell_type": "code",
      "metadata": {
        "id": "ldErq9ZiWCBP"
      },
      "source": [
        "# Install Spark 3.0.1 on the Linux VM\n",
        "!apt-get install openjdk-8-jdk-headless -qq > /dev/null\n",
        "\n",
        "!wget -q https://www-us.apache.org/dist/spark/spark-3.1.1/spark-3.1.1-bin-hadoop2.7.tgz\n",
        "!tar xf spark-3.1.1-bin-hadoop2.7.tgz"
      ],
      "execution_count": null,
      "outputs": []
    },
    {
      "cell_type": "code",
      "metadata": {
        "id": "3uJj8CM9W9eq"
      },
      "source": [
        "# pip install findspark\n",
        "!pip install -q findspark"
      ],
      "execution_count": null,
      "outputs": []
    },
    {
      "cell_type": "code",
      "metadata": {
        "id": "OE3CKMSpW_wu"
      },
      "source": [
        "# Set environment variables\n",
        "import os\n",
        "os.environ[\"JAVA_HOME\"] = \"/usr/lib/jvm/java-8-openjdk-amd64\"\n",
        "os.environ[\"SPARK_HOME\"] = \"/content/spark-3.1.1-bin-hadoop2.7\""
      ],
      "execution_count": null,
      "outputs": []
    },
    {
      "cell_type": "code",
      "metadata": {
        "colab": {
          "base_uri": "https://localhost:8080/",
          "height": 35
        },
        "id": "Ow6AJ6_cXCBj",
        "outputId": "b90d87cf-c978-4c89-b4dd-7875a74bf7c0"
      },
      "source": [
        "# Initialize Spark\n",
        "import findspark\n",
        "findspark.init()\n",
        "\n",
        "# Find Spark\n",
        "findspark.find()"
      ],
      "execution_count": null,
      "outputs": [
        {
          "output_type": "execute_result",
          "data": {
            "application/vnd.google.colaboratory.intrinsic+json": {
              "type": "string"
            },
            "text/plain": [
              "'/content/spark-3.1.1-bin-hadoop2.7'"
            ]
          },
          "metadata": {
            "tags": []
          },
          "execution_count": 4
        }
      ]
    },
    {
      "cell_type": "code",
      "metadata": {
        "colab": {
          "base_uri": "https://localhost:8080/"
        },
        "id": "A0h9JVHnZJBO",
        "outputId": "7d8e5f7b-5fe6-4073-e879-a1d5520928a4"
      },
      "source": [
        "# Mount Google Drive - will ask for verification\n",
        "from google.colab import drive\n",
        "drive.mount('/content/drive')"
      ],
      "execution_count": null,
      "outputs": [
        {
          "output_type": "stream",
          "text": [
            "Mounted at /content/drive\n"
          ],
          "name": "stdout"
        }
      ]
    },
    {
      "cell_type": "code",
      "metadata": {
        "id": "rgTGUBSMc-RF"
      },
      "source": [
        "# Navigate to proper file location\n",
        "# cd drive/MyDrive/CSCI\\ E-63\\ Big\\ Data\\ Analytics\n",
        "\n",
        "# !dir"
      ],
      "execution_count": null,
      "outputs": []
    },
    {
      "cell_type": "code",
      "metadata": {
        "id": "6bjxAuQFXI--"
      },
      "source": [
        "# Imports\n",
        "from pyspark.ml.feature import Tokenizer\n",
        "from pyspark.sql import SparkSession\n",
        "from pyspark.ml.feature import *\n",
        "import numpy as np\n",
        "from pyspark.ml.linalg import *\n",
        "from pyspark.sql.types import * \n",
        "from pyspark.sql.functions import *\n",
        "import tensorflow as tf\n",
        "from tensorflow import keras\n",
        "from tensorflow.keras.models import Sequential\n",
        "from tensorflow.keras import layers\n",
        "import numpy\n",
        "from tensorflow.keras.datasets import imdb"
      ],
      "execution_count": null,
      "outputs": []
    },
    {
      "cell_type": "code",
      "metadata": {
        "id": "PvdzzszxXRtE"
      },
      "source": [
        "# Start Spark Session\n",
        "spark = SparkSession.builder\\\n",
        "        .master(\"local\")\\\n",
        "        .appName(\"Colab\")\\\n",
        "        .config('spark.ui.port', '4050')\\\n",
        "        .getOrCreate()"
      ],
      "execution_count": null,
      "outputs": []
    },
    {
      "cell_type": "code",
      "metadata": {
        "id": "eUNyNLYtXaf2"
      },
      "source": [
        "# Read Pima Indians  into dataframe\n",
        "pima_indians_df = spark.read.format(\"csv\") \\\n",
        "                  .option(\"header\", \"true\") \\\n",
        "                  .option(\"inferSchema\", \"true\") \\\n",
        "                  .load(\"/content/drive/MyDrive/CSCI\\ E-63\\ Big\\ Data\\ Analytics/pima-indians-diabetes.csv\")\n",
        "        "
      ],
      "execution_count": null,
      "outputs": []
    },
    {
      "cell_type": "code",
      "metadata": {
        "colab": {
          "base_uri": "https://localhost:8080/"
        },
        "id": "er3V5L31ZBGK",
        "outputId": "34e8cadb-6ef9-4e40-f5af-9ac16edc1cde"
      },
      "source": [
        "# Show Dataframe\n",
        "pima_indians_df.show()"
      ],
      "execution_count": null,
      "outputs": [
        {
          "output_type": "stream",
          "text": [
            "+--------------+--------+--------------+--------------+-------------+---------------+--------+---+-----+\n",
            "|Times_pregnant|Glucose |Blood_pressure|Skin_thickness|Serum_insulin|Body_mass_index|Pedigree|Age|Class|\n",
            "+--------------+--------+--------------+--------------+-------------+---------------+--------+---+-----+\n",
            "|             6|     148|            72|            35|            0|           33.6|   0.627| 50|    1|\n",
            "|             1|      85|            66|            29|            0|           26.6|   0.351| 31|    0|\n",
            "|             8|     183|            64|             0|            0|           23.3|   0.672| 32|    1|\n",
            "|             1|      89|            66|            23|           94|           28.1|   0.167| 21|    0|\n",
            "|             0|     137|            40|            35|          168|           43.1|   2.288| 33|    1|\n",
            "|             5|     116|            74|             0|            0|           25.6|   0.201| 30|    0|\n",
            "|             3|      78|            50|            32|           88|           31.0|   0.248| 26|    1|\n",
            "|            10|     115|             0|             0|            0|           35.3|   0.134| 29|    0|\n",
            "|             2|     197|            70|            45|          543|           30.5|   0.158| 53|    1|\n",
            "|             8|     125|            96|             0|            0|            0.0|   0.232| 54|    1|\n",
            "|             4|     110|            92|             0|            0|           37.6|   0.191| 30|    0|\n",
            "|            10|     168|            74|             0|            0|           38.0|   0.537| 34|    1|\n",
            "|            10|     139|            80|             0|            0|           27.1|   1.441| 57|    0|\n",
            "|             1|     189|            60|            23|          846|           30.1|   0.398| 59|    1|\n",
            "|             5|     166|            72|            19|          175|           25.8|   0.587| 51|    1|\n",
            "|             7|     100|             0|             0|            0|           30.0|   0.484| 32|    1|\n",
            "|             0|     118|            84|            47|          230|           45.8|   0.551| 31|    1|\n",
            "|             7|     107|            74|             0|            0|           29.6|   0.254| 31|    1|\n",
            "|             1|     103|            30|            38|           83|           43.3|   0.183| 33|    0|\n",
            "|             1|     115|            70|            30|           96|           34.6|   0.529| 32|    1|\n",
            "+--------------+--------+--------------+--------------+-------------+---------------+--------+---+-----+\n",
            "only showing top 20 rows\n",
            "\n"
          ],
          "name": "stdout"
        }
      ]
    },
    {
      "cell_type": "code",
      "metadata": {
        "colab": {
          "base_uri": "https://localhost:8080/"
        },
        "id": "lGi1NnGNwldX",
        "outputId": "73b2ad65-00ad-4bc0-d8a8-8161a17e13de"
      },
      "source": [
        "# Turn pyspark dataframe to pandas dataframe\n",
        "pandas_df = pima_indians_df.toPandas()\n",
        "dataset = pandas_df.to_numpy()\n",
        "dataset"
      ],
      "execution_count": null,
      "outputs": [
        {
          "output_type": "execute_result",
          "data": {
            "text/plain": [
              "array([[  6.   , 148.   ,  72.   , ...,   0.627,  50.   ,   1.   ],\n",
              "       [  1.   ,  85.   ,  66.   , ...,   0.351,  31.   ,   0.   ],\n",
              "       [  8.   , 183.   ,  64.   , ...,   0.672,  32.   ,   1.   ],\n",
              "       ...,\n",
              "       [  5.   , 121.   ,  72.   , ...,   0.245,  30.   ,   0.   ],\n",
              "       [  1.   , 126.   ,  60.   , ...,   0.349,  47.   ,   1.   ],\n",
              "       [  1.   ,  93.   ,  70.   , ...,   0.315,  23.   ,   0.   ]])"
            ]
          },
          "metadata": {
            "tags": []
          },
          "execution_count": 50
        }
      ]
    },
    {
      "cell_type": "code",
      "metadata": {
        "id": "35xPrDGqZB2I"
      },
      "source": [
        "# Fix random seed for reproducibility\n",
        "np.random.seed(7)"
      ],
      "execution_count": null,
      "outputs": []
    },
    {
      "cell_type": "code",
      "metadata": {
        "id": "xpP40kuSfZM9"
      },
      "source": [
        "# split into input (X) and output (Y) variables\n",
        "X = dataset[:,0:8]\n",
        "Y = dataset[:,8]"
      ],
      "execution_count": null,
      "outputs": []
    },
    {
      "cell_type": "code",
      "metadata": {
        "id": "Xbei32kWcozr"
      },
      "source": [
        "# create model\n",
        "model = Sequential()\n",
        "model.add(layers.Dense(12, input_dim=8, activation='relu'))\n",
        "model.add(layers.Dense(8, activation='relu' ))\n",
        "model.add(layers.Dense(1, activation='sigmoid'))"
      ],
      "execution_count": null,
      "outputs": []
    },
    {
      "cell_type": "code",
      "metadata": {
        "id": "63jzG_fjvKHI"
      },
      "source": [
        "# Compile model\n",
        "model.compile(loss='binary_crossentropy', optimizer='adam', metrics=['accuracy'])"
      ],
      "execution_count": null,
      "outputs": []
    },
    {
      "cell_type": "code",
      "metadata": {
        "id": "SxmRUmjlxFaK"
      },
      "source": [
        "# Fit the model\n",
        "model.fit(X, Y, epochs=150, batch_size=10)"
      ],
      "execution_count": null,
      "outputs": []
    },
    {
      "cell_type": "code",
      "metadata": {
        "colab": {
          "base_uri": "https://localhost:8080/"
        },
        "id": "RMWdTbrlxmjD",
        "outputId": "740b7ccc-9ae8-41aa-9f5c-9d5167e7bd86"
      },
      "source": [
        "# evaluate the model\n",
        "scores = model.evaluate(X, Y)\n",
        "print(\"\\n%s: %.2f%% \" % (model.metrics_names[1], scores[1]*100))"
      ],
      "execution_count": null,
      "outputs": [
        {
          "output_type": "stream",
          "text": [
            "24/24 [==============================] - 0s 1ms/step - loss: 0.4665 - accuracy: 0.7747\n",
            "\n",
            "accuracy: 77.47% \n"
          ],
          "name": "stdout"
        }
      ]
    },
    {
      "cell_type": "code",
      "metadata": {
        "colab": {
          "base_uri": "https://localhost:8080/"
        },
        "id": "-vMjgK9_0UFk",
        "outputId": "353514a9-df68-4589-f24d-d8b5253de58c"
      },
      "source": [
        "model.summary()"
      ],
      "execution_count": null,
      "outputs": [
        {
          "output_type": "stream",
          "text": [
            "Model: \"sequential_1\"\n",
            "_________________________________________________________________\n",
            "Layer (type)                 Output Shape              Param #   \n",
            "=================================================================\n",
            "dense_3 (Dense)              (None, 12)                108       \n",
            "_________________________________________________________________\n",
            "dense_4 (Dense)              (None, 8)                 104       \n",
            "_________________________________________________________________\n",
            "dense_5 (Dense)              (None, 1)                 9         \n",
            "=================================================================\n",
            "Total params: 221\n",
            "Trainable params: 221\n",
            "Non-trainable params: 0\n",
            "_________________________________________________________________\n"
          ],
          "name": "stdout"
        }
      ]
    },
    {
      "cell_type": "code",
      "metadata": {
        "colab": {
          "base_uri": "https://localhost:8080/"
        },
        "id": "qNabv9430wdj",
        "outputId": "1fe7fe2d-d2b3-4ecb-c449-5cc9ef0266fc"
      },
      "source": [
        "# create inputs for each row in the problem\n",
        "row1_input = ([2,125,68,28,34,30.6,0.527,40],\n",
        "              [1,140,72,23,25,28.6,0.451,41],\n",
        "              [4,143,75,15,12,21.3,0.472,52],\n",
        "              [1,92,69,26,84,26.1,0.267,23])\n",
        "row1_input"
      ],
      "execution_count": null,
      "outputs": [
        {
          "output_type": "execute_result",
          "data": {
            "text/plain": [
              "([2, 125, 68, 28, 34, 30.6, 0.527, 40],\n",
              " [1, 140, 72, 23, 25, 28.6, 0.451, 41],\n",
              " [4, 143, 75, 15, 12, 21.3, 0.472, 52],\n",
              " [1, 92, 69, 26, 84, 26.1, 0.267, 23])"
            ]
          },
          "metadata": {
            "tags": []
          },
          "execution_count": 70
        }
      ]
    },
    {
      "cell_type": "code",
      "metadata": {
        "colab": {
          "base_uri": "https://localhost:8080/"
        },
        "id": "tCsn5tyV244U",
        "outputId": "30fe4425-b59f-46bd-da70-4e5ee6c17299"
      },
      "source": [
        "# create some predictions using the model\n",
        "predictions = model.predict_classes(row1_input)"
      ],
      "execution_count": null,
      "outputs": [
        {
          "output_type": "stream",
          "text": [
            "/usr/local/lib/python3.7/dist-packages/tensorflow/python/keras/engine/sequential.py:450: UserWarning: `model.predict_classes()` is deprecated and will be removed after 2021-01-01. Please use instead:* `np.argmax(model.predict(x), axis=-1)`,   if your model does multi-class classification   (e.g. if it uses a `softmax` last-layer activation).* `(model.predict(x) > 0.5).astype(\"int32\")`,   if your model does binary classification   (e.g. if it uses a `sigmoid` last-layer activation).\n",
            "  warnings.warn('`model.predict_classes()` is deprecated and '\n"
          ],
          "name": "stderr"
        }
      ]
    },
    {
      "cell_type": "code",
      "metadata": {
        "colab": {
          "base_uri": "https://localhost:8080/"
        },
        "id": "8C9JOGE53vVC",
        "outputId": "508b205f-5c99-419f-b9f7-b351d2acb1fc"
      },
      "source": [
        "# output\n",
        "for i in range(len(predictions)):\n",
        "\tprint(\"X=%s, Predicted=%s\" % (predictions[i], row1_input[i]))"
      ],
      "execution_count": null,
      "outputs": [
        {
          "output_type": "stream",
          "text": [
            "X=[0], Predicted=[2, 125, 68, 28, 34, 30.6, 0.527, 40]\n",
            "X=[0], Predicted=[1, 140, 72, 23, 25, 28.6, 0.451, 41]\n",
            "X=[0], Predicted=[4, 143, 75, 15, 12, 21.3, 0.472, 52]\n",
            "X=[1], Predicted=[1, 92, 69, 26, 84, 26.1, 0.267, 23]\n"
          ],
          "name": "stdout"
        }
      ]
    },
    {
      "cell_type": "code",
      "metadata": {
        "colab": {
          "base_uri": "https://localhost:8080/"
        },
        "id": "jHuhhwIA5Dns",
        "outputId": "7b3a7d4b-9b52-4d09-a1e8-47852af401fa"
      },
      "source": [
        "len(model.weights)"
      ],
      "execution_count": null,
      "outputs": [
        {
          "output_type": "execute_result",
          "data": {
            "text/plain": [
              "6"
            ]
          },
          "metadata": {
            "tags": []
          },
          "execution_count": 75
        }
      ]
    },
    {
      "cell_type": "code",
      "metadata": {
        "colab": {
          "base_uri": "https://localhost:8080/"
        },
        "id": "zxz10UvR5FCU",
        "outputId": "9c8bb229-3985-4bf0-b90d-5ec5984e7f90"
      },
      "source": [
        "################################################################################### Problem 2 ############################################################################\n",
        "\n",
        "movie_reviews_df = spark.read.format(\"csv\") \\\n",
        "                    .option(\"header\", \"true\") \\\n",
        "                    .option(\"inferSchema\", \"true\") \\\n",
        "                    .load(\"/content/drive/MyDrive/CSCI\\ E-63\\ Big\\ Data\\ Analytics/The_latest_reviews.csv\")\n",
        "movie_reviews_df.show(24, False)"
      ],
      "execution_count": null,
      "outputs": [
        {
          "output_type": "stream",
          "text": [
            "+------+---------------------------------------------------------------------+-----------------------------------------------------------------------------------------------------------------------------------------------+\n",
            "|Rating|Movie                                                                |Review                                                                                                                                         |\n",
            "+------+---------------------------------------------------------------------+-----------------------------------------------------------------------------------------------------------------------------------------------+\n",
            "|-0.75 |The Rookies                                                          |\"\"\"There's such passion behind this terrible script that you want to love it.\"\"\"                                                               |\n",
            "|-1.0  |What's Love Got To Do With It?                                       |\"\"\"The two leads turn in powerful performances.\"\"\"                                                                                             |\n",
            "|0.25  |Vanquish                                                             |\"\"\"A dud of a movie.\"\"\"                                                                                                                        |\n",
            "|-1.0  |What's Love Got To Do With It?                                       |\"\"\"As an actor's showcase                                                                                                                      |\n",
            "|-0.75 |The Banishing                                                        |\"\"\"It's got some good scares. It's one of those that you wouldn't want to watch with the lights all turned down.\"\"\"                            |\n",
            "|1.0   |Acción mutante (Mutant Action)                                       |\"\"\"Despite the promising premise and frantic energy                                                                                            |\n",
            "|1.0   |Acción mutante (Mutant Action)                                       |\"\"\"Whatever bizarre charm the film first possessed becomes engulfed in unfunny sick humor.\"\"\"                                                  |\n",
            "|-0.75 |In The Earth                                                         |\"\"\"It made me uneasy                                                                                                                           |\n",
            "|-0.9  |In The Earth                                                         |\"\"\"It's thoughtful and alarmingly relevant. At the heart of it                                                                                 |\n",
            "|-0.7  |The Courier                                                          |\"\"\"Whether or not you end up caring about Wynne and Penkovsky ... the can-they-pull-this-off factor is more than enough to keep you engaged.\"\"\"|\n",
            "|1.0   |The Baby of Mâcon                                                    |\"\"\"Greenaway tells this story with his usual self-satisfied and gross pomposity                                                                |\n",
            "|1.0   |The Baby of Mâcon                                                    |\"\"\"Watching The Baby is like being locked for eternity in a hideous religious painting.\"\"\"                                                     |\n",
            "|1.0   |The Crush                                                            |\"\"\"A Hollywood potboiler which probably should have gone straight to video.\"\"\"                                                                 |\n",
            "|-1.0  |Dreams That Money Can Buy                                            |\"\"\"Hans Richter's first American feature film                                                                                                  |\n",
            "|-1.0  |Sundays and Cybele (Les Dimanches de Ville d'Avray)                  |\"\"\"This is an almost perfect union of the story-telling and photographic arts.\"\"\"                                                              |\n",
            "|1.0   |My Life to Live (It's My Life) (Vivre sa vie: Film en douze tableaux)|\"\"\"Where Breathless and Une Femme est une Femme were full of tumbling life                                                                     |\n",
            "|1.0   |The Race to Save the World                                           |\"\"\"A lot of it comes across as why people make fun of liberals. \"\"\"                                                                            |\n",
            "|1.0   |Hatari!                                                              |\"\"\"It is filmed with every possible cliché                                                                                                     |\n",
            "|1.0   |The Race to Save the World                                           |\"\"\"These are all very fine people and I appreciate what they're doing                                                                          |\n",
            "|1.0   |8 Billion Angels                                                     |\"\"\"It means well                                                                                                                               |\n",
            "|-1.0  |Lawrence of Arabia                                                   |\"\"\"All in all                                                                                                                                  |\n",
            "|1.0   |My Wonderful Wanda (Wanda, Mein Wunder)                              |\"\"\"[Wanda's] character is underwritten                                                                                                         |\n",
            "|1.0   |Arlo the Alligator Boy                                               |\"\"\"Netflix is spending a lot of money on animation                                                                                             |\n",
            "|1.0   |Tiny Tim: King for a Day                                             |\"\"\"A very conventional and not terribly illuminating look at this man. \"\"\"                                                                     |\n",
            "+------+---------------------------------------------------------------------+-----------------------------------------------------------------------------------------------------------------------------------------------+\n",
            "only showing top 24 rows\n",
            "\n"
          ],
          "name": "stdout"
        }
      ]
    },
    {
      "cell_type": "code",
      "metadata": {
        "colab": {
          "base_uri": "https://localhost:8080/"
        },
        "id": "aYdeDErj_FoY",
        "outputId": "646c54f4-b0ab-45a0-b1ab-cec292f693d4"
      },
      "source": [
        "# Classify Movie reviews\n",
        "(train_data, train_labels), (test_data, test_labels) = imdb.load_data(num_words=10000)"
      ],
      "execution_count": null,
      "outputs": [
        {
          "output_type": "stream",
          "text": [
            "<string>:6: VisibleDeprecationWarning: Creating an ndarray from ragged nested sequences (which is a list-or-tuple of lists-or-tuples-or ndarrays with different lengths or shapes) is deprecated. If you meant to do this, you must specify 'dtype=object' when creating the ndarray\n",
            "/usr/local/lib/python3.7/dist-packages/tensorflow/python/keras/datasets/imdb.py:159: VisibleDeprecationWarning: Creating an ndarray from ragged nested sequences (which is a list-or-tuple of lists-or-tuples-or ndarrays with different lengths or shapes) is deprecated. If you meant to do this, you must specify 'dtype=object' when creating the ndarray\n",
            "  x_train, y_train = np.array(xs[:idx]), np.array(labels[:idx])\n",
            "/usr/local/lib/python3.7/dist-packages/tensorflow/python/keras/datasets/imdb.py:160: VisibleDeprecationWarning: Creating an ndarray from ragged nested sequences (which is a list-or-tuple of lists-or-tuples-or ndarrays with different lengths or shapes) is deprecated. If you meant to do this, you must specify 'dtype=object' when creating the ndarray\n",
            "  x_test, y_test = np.array(xs[idx:]), np.array(labels[idx:])\n"
          ],
          "name": "stderr"
        }
      ]
    },
    {
      "cell_type": "code",
      "metadata": {
        "colab": {
          "base_uri": "https://localhost:8080/",
          "height": 137
        },
        "id": "wAEU7ChL_Gl6",
        "outputId": "d9b849d6-dc10-41bd-dd86-4078392c7a68"
      },
      "source": [
        "# word_index is a dictionary mapping words to an integer index\n",
        "word_index = imdb.get_word_index()\n",
        "\n",
        "# We reverse it, mapping integer indices to words\n",
        "reverse_word_index = dict([(value, key) for (key, value) in word_index.items()])\n",
        "\n",
        "# We decode the review; indices are offset by 3\n",
        "decoded_review = ' '.join([reverse_word_index.get(i - 3, '?') for i in train_data[0]])\n",
        "decoded_review"
      ],
      "execution_count": null,
      "outputs": [
        {
          "output_type": "stream",
          "text": [
            "Downloading data from https://storage.googleapis.com/tensorflow/tf-keras-datasets/imdb_word_index.json\n",
            "1646592/1641221 [==============================] - 0s 0us/step\n"
          ],
          "name": "stdout"
        },
        {
          "output_type": "execute_result",
          "data": {
            "application/vnd.google.colaboratory.intrinsic+json": {
              "type": "string"
            },
            "text/plain": [
              "\"? this film was just brilliant casting location scenery story direction everyone's really suited the part they played and you could just imagine being there robert ? is an amazing actor and now the same being director ? father came from the same scottish island as myself so i loved the fact there was a real connection with this film the witty remarks throughout the film were great it was just brilliant so much that i bought the film as soon as it was released for ? and would recommend it to everyone to watch and the fly fishing was amazing really cried at the end it was so sad and you know what they say if you cry at a film it must have been good and this definitely was also ? to the two little boy's that played the ? of norman and paul they were just brilliant children are often left out of the ? list i think because the stars that play them all grown up are such a big profile for the whole film but these children are amazing and should be praised for what they have done don't you think the whole story was so lovely because it was true and was someone's life after all that was shared with us all\""
            ]
          },
          "metadata": {
            "tags": []
          },
          "execution_count": 13
        }
      ]
    },
    {
      "cell_type": "code",
      "metadata": {
        "id": "OWE7JAi-BMNk"
      },
      "source": [
        "# One-Hot Encoding\n",
        "def vectorize_sequences(sequences, dimension=10000):\n",
        "  # Create an all-zero matrix of shape (len(sequences), dimension)\n",
        "  results = np.zeros((len(sequences), dimension))\n",
        "  for i, sequence in enumerate(sequences):\n",
        "    results[i, sequence] = 1. # set specific indices of results[i] to 1s\n",
        "  return results\n",
        "\n",
        "# Our vectorized training data\n",
        "x_train = vectorize_sequences(train_data)\n",
        "# Our vectorized test data\n",
        "x_test = vectorize_sequences(test_data)"
      ],
      "execution_count": null,
      "outputs": []
    },
    {
      "cell_type": "code",
      "metadata": {
        "id": "KRDBdxU_DRFR"
      },
      "source": [
        "# Vectorize labels\n",
        "y_train = np.asarray(train_labels).astype('float32')\n",
        "y_test = np.asarray(test_labels).astype('float32')"
      ],
      "execution_count": null,
      "outputs": []
    },
    {
      "cell_type": "code",
      "metadata": {
        "id": "fqZ-GsYlDXPu"
      },
      "source": [
        "# Create model\n",
        "import tensorflow as tf\n",
        "from tensorflow import keras\n",
        "from tensorflow.keras import models\n",
        "from tensorflow.keras import layers\n",
        "\n",
        "movie_model = models.Sequential(name = 'movie_review')\n",
        "movie_model.add(layers.Dense(16, activation='relu', input_shape=(10000,)))\n",
        "movie_model.add(layers.Dense(16, activation='relu'))\n",
        "movie_model.add(layers.Dense(1, activation='sigmoid'))"
      ],
      "execution_count": null,
      "outputs": []
    },
    {
      "cell_type": "code",
      "metadata": {
        "id": "mN3xwqvUEOE4"
      },
      "source": [
        "# Loss function and Optimizer\n",
        "movie_model.compile(optimizer='sgd', loss='binary_crossentropy', metrics=['accuracy'])"
      ],
      "execution_count": null,
      "outputs": []
    },
    {
      "cell_type": "code",
      "metadata": {
        "colab": {
          "base_uri": "https://localhost:8080/"
        },
        "id": "LrUkfiVREg9k",
        "outputId": "d160fe5f-167e-4604-e5ca-ad7c6e9234c0"
      },
      "source": [
        "# Training results, validating the approcach\n",
        "x_val = x_train[:10000]\n",
        "partial_x_train = x_train[10000:]\n",
        "y_val = y_train[:10000]\n",
        "partial_y_train = y_train[10000:]\n",
        "\n",
        "history = movie_model.fit(partial_x_train, partial_y_train, epochs=20, batch_size=512, validation_data=(x_val, y_val))"
      ],
      "execution_count": null,
      "outputs": [
        {
          "output_type": "stream",
          "text": [
            "Epoch 1/20\n",
            "30/30 [==============================] - 2s 48ms/step - loss: 0.6925 - accuracy: 0.5129 - val_loss: 0.6886 - val_accuracy: 0.5494\n",
            "Epoch 2/20\n",
            "30/30 [==============================] - 1s 35ms/step - loss: 0.6864 - accuracy: 0.5628 - val_loss: 0.6817 - val_accuracy: 0.5930\n",
            "Epoch 3/20\n",
            "30/30 [==============================] - 1s 35ms/step - loss: 0.6773 - accuracy: 0.6154 - val_loss: 0.6703 - val_accuracy: 0.6411\n",
            "Epoch 4/20\n",
            "30/30 [==============================] - 1s 35ms/step - loss: 0.6653 - accuracy: 0.6609 - val_loss: 0.6550 - val_accuracy: 0.6897\n",
            "Epoch 5/20\n",
            "30/30 [==============================] - 1s 34ms/step - loss: 0.6486 - accuracy: 0.7034 - val_loss: 0.6386 - val_accuracy: 0.7198\n",
            "Epoch 6/20\n",
            "30/30 [==============================] - 1s 34ms/step - loss: 0.6307 - accuracy: 0.7366 - val_loss: 0.6212 - val_accuracy: 0.7433\n",
            "Epoch 7/20\n",
            "30/30 [==============================] - 1s 35ms/step - loss: 0.6128 - accuracy: 0.7596 - val_loss: 0.6034 - val_accuracy: 0.7605\n",
            "Epoch 8/20\n",
            "30/30 [==============================] - 1s 34ms/step - loss: 0.5960 - accuracy: 0.7709 - val_loss: 0.5857 - val_accuracy: 0.7726\n",
            "Epoch 9/20\n",
            "30/30 [==============================] - 1s 34ms/step - loss: 0.5750 - accuracy: 0.7834 - val_loss: 0.5672 - val_accuracy: 0.7805\n",
            "Epoch 10/20\n",
            "30/30 [==============================] - 1s 34ms/step - loss: 0.5569 - accuracy: 0.7932 - val_loss: 0.5486 - val_accuracy: 0.7900\n",
            "Epoch 11/20\n",
            "30/30 [==============================] - 1s 36ms/step - loss: 0.5406 - accuracy: 0.7966 - val_loss: 0.5307 - val_accuracy: 0.7964\n",
            "Epoch 12/20\n",
            "30/30 [==============================] - 1s 34ms/step - loss: 0.5207 - accuracy: 0.8082 - val_loss: 0.5127 - val_accuracy: 0.8020\n",
            "Epoch 13/20\n",
            "30/30 [==============================] - 1s 34ms/step - loss: 0.4976 - accuracy: 0.8179 - val_loss: 0.4962 - val_accuracy: 0.8052\n",
            "Epoch 14/20\n",
            "30/30 [==============================] - 1s 34ms/step - loss: 0.4843 - accuracy: 0.8181 - val_loss: 0.4800 - val_accuracy: 0.8120\n",
            "Epoch 15/20\n",
            "30/30 [==============================] - 1s 35ms/step - loss: 0.4665 - accuracy: 0.8262 - val_loss: 0.4649 - val_accuracy: 0.8165\n",
            "Epoch 16/20\n",
            "30/30 [==============================] - 1s 34ms/step - loss: 0.4501 - accuracy: 0.8312 - val_loss: 0.4518 - val_accuracy: 0.8210\n",
            "Epoch 17/20\n",
            "30/30 [==============================] - 1s 35ms/step - loss: 0.4344 - accuracy: 0.8376 - val_loss: 0.4385 - val_accuracy: 0.8255\n",
            "Epoch 18/20\n",
            "30/30 [==============================] - 1s 34ms/step - loss: 0.4216 - accuracy: 0.8399 - val_loss: 0.4288 - val_accuracy: 0.8278\n",
            "Epoch 19/20\n",
            "30/30 [==============================] - 1s 36ms/step - loss: 0.4079 - accuracy: 0.8471 - val_loss: 0.4167 - val_accuracy: 0.8337\n",
            "Epoch 20/20\n",
            "30/30 [==============================] - 1s 34ms/step - loss: 0.3955 - accuracy: 0.8504 - val_loss: 0.4074 - val_accuracy: 0.8366\n"
          ],
          "name": "stdout"
        }
      ]
    },
    {
      "cell_type": "code",
      "metadata": {
        "colab": {
          "base_uri": "https://localhost:8080/"
        },
        "id": "c5JUbRrxDnMS",
        "outputId": "558e8f47-11d6-4e4c-81da-45f4471573e4"
      },
      "source": [
        "# History object\n",
        "history_dict = history.history\n",
        "history_dict.keys()\n"
      ],
      "execution_count": null,
      "outputs": [
        {
          "output_type": "execute_result",
          "data": {
            "text/plain": [
              "dict_keys(['loss', 'accuracy', 'val_loss', 'val_accuracy'])"
            ]
          },
          "metadata": {
            "tags": []
          },
          "execution_count": 28
        }
      ]
    },
    {
      "cell_type": "code",
      "metadata": {
        "colab": {
          "base_uri": "https://localhost:8080/",
          "height": 295
        },
        "id": "RLGo2v86G9ax",
        "outputId": "3a1aecad-8722-4f73-9605-8a226625e013"
      },
      "source": [
        "import matplotlib.pyplot as plt\n",
        "\n",
        "# Training and validation loss\n",
        "\n",
        "acc = history.history['accuracy']\n",
        "val_acc = history.history['val_accuracy']\n",
        "loss = history.history['loss']\n",
        "val_loss = history.history['val_loss']\n",
        "epochs = range(1, len(acc) + 1)\n",
        "\n",
        "# \"bo\" is for \"blue dot\"\n",
        "plt.plot(epochs, loss, 'bo', label='Training loss')\n",
        "# b is for \"solid blue line\"\n",
        "plt.plot(epochs, val_loss, 'b', label='Validation loss')\n",
        "plt.title('Training and validation loss')\n",
        "plt.xlabel('Epochs')\n",
        "plt.ylabel('Loss')\n",
        "plt.legend()\n",
        "plt.show()"
      ],
      "execution_count": null,
      "outputs": [
        {
          "output_type": "display_data",
          "data": {
            "image/png": "[encoded data removed]",
            "text/plain": [
              "<Figure size 432x288 with 1 Axes>"
            ]
          },
          "metadata": {
            "tags": [],
            "needs_background": "light"
          }
        }
      ]
    },
    {
      "cell_type": "code",
      "metadata": {
        "colab": {
          "base_uri": "https://localhost:8080/",
          "height": 295
        },
        "id": "jr-YteP1KvlN",
        "outputId": "9b1aeab7-5298-42b9-ffb2-1b88dca36883"
      },
      "source": [
        "# Clear plot\n",
        "plt.clf() \n",
        "acc_values = history_dict['accuracy']\n",
        "val_acc_values = history_dict['val_accuracy']\n",
        "plt.plot(epochs, acc, 'bo', label='Training acc')\n",
        "plt.plot(epochs, val_acc, 'b', label='Validation acc')\n",
        "plt.title('Training and validation accuracy')\n",
        "plt.xlabel('Epochs')\n",
        "plt.ylabel('Loss')\n",
        "plt.legend()\n",
        "plt.show()"
      ],
      "execution_count": null,
      "outputs": [
        {
          "output_type": "display_data",
          "data": {
            "image/png": "[encoded data removed]",
            "text/plain": [
              "<Figure size 432x288 with 1 Axes>"
            ]
          },
          "metadata": {
            "tags": [],
            "needs_background": "light"
          }
        }
      ]
    },
    {
      "cell_type": "code",
      "metadata": {
        "colab": {
          "base_uri": "https://localhost:8080/"
        },
        "id": "K54xUZzXMeOI",
        "outputId": "dbb097bf-633c-47e2-f9cf-c8b49cc35564"
      },
      "source": [
        "# Create a predictable array\n",
        "predict = movie_reviews_df.select('rating').collect()\n",
        "predict"
      ],
      "execution_count": null,
      "outputs": [
        {
          "output_type": "execute_result",
          "data": {
            "text/plain": [
              "[Row(rating=-0.75),\n",
              " Row(rating=-1.0),\n",
              " Row(rating=0.25),\n",
              " Row(rating=-1.0),\n",
              " Row(rating=-0.75),\n",
              " Row(rating=1.0),\n",
              " Row(rating=1.0),\n",
              " Row(rating=-0.75),\n",
              " Row(rating=-0.9),\n",
              " Row(rating=-0.7),\n",
              " Row(rating=1.0),\n",
              " Row(rating=1.0),\n",
              " Row(rating=1.0),\n",
              " Row(rating=-1.0),\n",
              " Row(rating=-1.0),\n",
              " Row(rating=1.0),\n",
              " Row(rating=1.0),\n",
              " Row(rating=1.0),\n",
              " Row(rating=1.0),\n",
              " Row(rating=1.0),\n",
              " Row(rating=-1.0),\n",
              " Row(rating=1.0),\n",
              " Row(rating=1.0),\n",
              " Row(rating=1.0),\n",
              " Row(rating=1.0)]"
            ]
          },
          "metadata": {
            "tags": []
          },
          "execution_count": 34
        }
      ]
    },
    {
      "cell_type": "code",
      "metadata": {
        "id": "0E9bH11LMUp4"
      },
      "source": [
        "# create some predictions using the model\n",
        "predictions = movie_model.predict_classes(row1_input)\n",
        "\n",
        "# output\n",
        "for i in range(len(predictions)):\n",
        "\tprint(\"X=%s, Predicted=%s\" % (predictions[i], row1_input[i]))"
      ],
      "execution_count": null,
      "outputs": []
    }
  ]
}